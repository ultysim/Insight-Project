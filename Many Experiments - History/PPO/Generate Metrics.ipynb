{
 "cells": [
  {
   "cell_type": "code",
   "execution_count": 1,
   "metadata": {},
   "outputs": [],
   "source": [
    "import gym\n",
    "import numpy as np\n",
    "import torch\n",
    "from torch import nn\n",
    "from matplotlib import pyplot as plt\n",
    "import time\n"
   ]
  },
  {
   "cell_type": "code",
   "execution_count": 2,
   "metadata": {},
   "outputs": [],
   "source": [
    "class Policy(nn.Module):\n",
    "    def __init__(self):\n",
    "        super(Policy, self).__init__()\n",
    "        self.layers = nn.Sequential(\n",
    "            nn.Linear(6000*2, 512), nn.ReLU(),\n",
    "            nn.Linear(512, 2),\n",
    "        )\n",
    "\n",
    "    def forward(self, d_obs, deterministic=False):\n",
    "        logits = self.layers(d_obs)\n",
    "        if deterministic:\n",
    "            action = torch.argmax(logits[0])\n",
    "            action_prob = 1.0\n",
    "        else:\n",
    "            c = torch.distributions.Categorical(logits=logits)\n",
    "            action = c.sample()\n",
    "            action_prob = c.probs[0, action]\n",
    "        return action, action_prob, logits\n",
    "\n",
    "    def state_to_tensor(self, I, opponent=False):\n",
    "        \"\"\" prepro 210x160x3 uint8 frame into 6000 (75x80) 1D float vector \"\"\"\n",
    "        if I is None:\n",
    "            return torch.zeros(1, 6000)\n",
    "        if opponent:\n",
    "            I = np.fliplr(I)\n",
    "        I = I[35:185] # crop - remove 35px from start & 25px from end of image in x, to reduce redundant parts of image (i.e. after ball passes paddle)\n",
    "        I = I[::2,::2,0] # downsample by factor of 2.\n",
    "        I[I == 144] = 0 # erase background (background type 1)\n",
    "        I[I == 109] = 0 # erase background (background type 2)\n",
    "        I[I != 0] = 1 # everything else (paddles, ball) just set to 1. this makes the image grayscale effectively\n",
    "        return torch.from_numpy(I.astype(np.float32).ravel()).unsqueeze(0)\n",
    "\n",
    "    def pre_process(self, x, prev_x, opponent=False):\n",
    "        #return self.state_to_tensor(x) - self.state_to_tensor(prev_x)\n",
    "        return torch.cat([self.state_to_tensor(x, opponent), self.state_to_tensor(prev_x, opponent)], dim=1)\n",
    "\n",
    "    def convert_action(self, action):\n",
    "        return action + 2\n"
   ]
  },
  {
   "cell_type": "code",
   "execution_count": 3,
   "metadata": {},
   "outputs": [],
   "source": [
    "def one_hot_embedding(labels, num_classes):\n",
    "    \"\"\"Embedding labels to one-hot form.\n",
    "\n",
    "    Args:\n",
    "      labels: (LongTensor) class labels, sized [N,].\n",
    "      num_classes: (int) number of classes.\n",
    "\n",
    "    Returns:\n",
    "      (tensor) encoded labels, sized [N, #classes].\n",
    "    \"\"\"\n",
    "    y = torch.eye(num_classes)\n",
    "    return y[labels]"
   ]
  },
  {
   "cell_type": "code",
   "execution_count": 12,
   "metadata": {},
   "outputs": [],
   "source": [
    "def get_opponent_col(obs):\n",
    "    return obs.cpu().numpy().reshape(75, 80)[:, 8:10]\n",
    "\n",
    "def get_player_col(obs):\n",
    "    return obs.cpu().numpy().reshape(75, 80)[:, 70:72]\n",
    "\n",
    "def get_opponent_screen(obs):\n",
    "    numpy_obs = np.fliplr(obs.cpu().numpy().reshape(75, 80))\n",
    "    return torch.from_numpy(numpy_obs.astype(np.float32).ravel()).unsqueeze(0)\n",
    "\n",
    "\n",
    "def get_opponent_action(x, prev_x):\n",
    "    \"\"\"Input: x, current screen; prev_x: previous screen\n",
    "    Output: Returns opponent action. -1 for no action, 0 for up, 1 for down\"\"\"\n",
    "    if prev_x is None:\n",
    "        prev_x = x\n",
    "    movement = x - prev_x\n",
    "    op_window = movement[35:194, 16:20]\n",
    "    #Remove 0s and see the action\n",
    "    op_window = op_window[op_window != 0]\n",
    "    if len(op_window) == 0:\n",
    "        return -1\n",
    "    if op_window[0] < 100:\n",
    "        return 0\n",
    "    else:\n",
    "        return 1\n",
    "\n",
    "\n",
    "def get_opponent_action_2(obs):\n",
    "    \"\"\"Input: x, current screen; prev_x: previous screen\n",
    "    Output: Returns opponent action. -1 for no action, 0 for up, 1 for down\"\"\"\n",
    "    unstack = obs.view(2, 75, 80)\n",
    "    obs = unstack[0] - unstack[1]\n",
    "    opponent = get_opponent_col(obs)\n",
    "    #Remove 0s and see the action\n",
    "    opponent = opponent[opponent != 0]\n",
    "    if len(opponent) == 0:\n",
    "        return -1\n",
    "    if opponent[0] > 0:\n",
    "        return 0\n",
    "    elif opponent[0] < 0:\n",
    "        return 1\n",
    "    return -2\n",
    "\n",
    "def is_overlap(I):\n",
    "    player = get_player_col(I)\n",
    "    opponent = get_opponent_col(I)\n",
    "    return np.sum(opponent[player == 1.]) >= 8"
   ]
  },
  {
   "cell_type": "code",
   "execution_count": 54,
   "metadata": {},
   "outputs": [],
   "source": [
    "env = gym.make('PongNoFrameskip-v4')\n",
    "_ = env.reset()"
   ]
  },
  {
   "cell_type": "code",
   "execution_count": 55,
   "metadata": {},
   "outputs": [],
   "source": [
    "policy = Policy()\n",
    "policy.load_state_dict(torch.load(\"params.ckpt\"))\n",
    "\n",
    "policy.train()\n",
    "\n",
    "#Define loss criterion\n",
    "criterion = nn.BCEWithLogitsLoss()\n",
    "#Define the optimizer\n",
    "optimizer = torch.optim.Adam(policy.parameters(), lr=0.001)#0.0001 stable"
   ]
  },
  {
   "cell_type": "code",
   "execution_count": 62,
   "metadata": {},
   "outputs": [
    {
     "name": "stdout",
     "output_type": "stream",
     "text": [
      "0.2626 % overlap\n",
      "-3.0 score delta\n",
      "0.2927 % overlap\n",
      "1.0 score delta\n",
      "0.2882 % overlap\n",
      "-6.0 score delta\n",
      "0.3088 % overlap\n",
      "2.0 score delta\n",
      "0.2987 % overlap\n",
      "-1.0 score delta\n",
      "0.2895 % overlap\n",
      "2.0 score delta\n",
      "0.2826 % overlap\n",
      "1.0 score delta\n",
      "0.2796 % overlap\n",
      "1.0 score delta\n",
      "0.2997 % overlap\n",
      "-2.0 score delta\n",
      "0.2974 % overlap\n",
      "0.0 score delta\n",
      "0.2867 % overlap\n",
      "0.0 score delta\n",
      "0.3051 % overlap\n",
      "-5.0 score delta\n",
      "0.2902 % overlap\n",
      "-2.0 score delta\n",
      "0.252 % overlap\n",
      "-2.0 score delta\n",
      "0.298 % overlap\n",
      "-1.0 score delta\n",
      "0.2943 % overlap\n",
      "-3.0 score delta\n",
      "0.2925 % overlap\n",
      "6.0 score delta\n",
      "0.2977 % overlap\n",
      "-4.0 score delta\n",
      "0.3029 % overlap\n",
      "0.0 score delta\n",
      "0.2985 % overlap\n",
      "-1.0 score delta\n",
      "0.2806 % overlap\n",
      "2.0 score delta\n",
      "0.2882 % overlap\n",
      "-1.0 score delta\n",
      "0.2943 % overlap\n",
      "-1.0 score delta\n",
      "0.3024 % overlap\n",
      "4.0 score delta\n",
      "0.296 % overlap\n",
      "1.0 score delta\n",
      "0.2789 % overlap\n",
      "-4.0 score delta\n",
      "0.3064 % overlap\n",
      "4.0 score delta\n",
      "0.3214 % overlap\n",
      "0.0 score delta\n",
      "0.3206 % overlap\n",
      "6.0 score delta\n",
      "0.2835 % overlap\n",
      "-6.0 score delta\n"
     ]
    }
   ],
   "source": [
    "#GENERATE BASELINE:\n",
    "total_overlap = []\n",
    "total_score = []\n",
    "for episode in range(30):\n",
    "    prev_obs = None\n",
    "    obs = env.reset()\n",
    "    \n",
    "    overlap_hold = []\n",
    "    score = 0\n",
    "\n",
    "    for t in range(10000):\n",
    "        #Preprocess the images for more model and efficient state extraction:\n",
    "        a_obs = policy.pre_process(obs, prev_obs)\n",
    "        \n",
    "        #TODO: Fix this jank, but just for testing now:\n",
    "        filtered_obs = policy.state_to_tensor(obs)\n",
    "        overlap_hold.append(is_overlap(filtered_obs))\n",
    "\n",
    "        action, action_prob, _ = policy(a_obs)\n",
    "        op_action_pred, op_action_prob, op_action_logit = policy(op_obs)\n",
    "\n",
    "        prev_obs = obs\n",
    "        obs, reward, done, info = env.step(policy.convert_action(action))\n",
    "        score += reward\n",
    "        \n",
    "        if done:\n",
    "            print('Episode %d (%d timesteps) - Reward: %.2f' % (episode, t, reward))\n",
    "            break\n",
    "    \n",
    "    mean_overlap = np.mean(overlap_hold)\n",
    "    \n",
    "    print(\"{} % overlap\".format(mean_overlap))\n",
    "    print(\"{} score delta\".format(score))\n",
    "    env.close()\n",
    "    total_overlap.append(mean_overlap)\n",
    "    total_score.append(score)"
   ]
  },
  {
   "cell_type": "code",
   "execution_count": 63,
   "metadata": {},
   "outputs": [
    {
     "name": "stdout",
     "output_type": "stream",
     "text": [
      "Average overlap: 0.29300000000000004\n",
      "STD overlap: 0.014093331756543589\n",
      "Average score delta: -0.4\n",
      "STD score delta: 3.050682983639347\n"
     ]
    }
   ],
   "source": [
    "print(\"Average overlap:\", np.mean(total_overlap))\n",
    "print(\"STD overlap:\", np.std(total_overlap))\n",
    "print(\"Average score delta:\", np.mean(total_score))\n",
    "print(\"STD score delta:\", np.std(total_score))"
   ]
  },
  {
   "cell_type": "code",
   "execution_count": 44,
   "metadata": {},
   "outputs": [],
   "source": [
    "optimizer = torch.optim.Adam(policy.parameters(), lr=0.001)#0.0001 stable"
   ]
  },
  {
   "cell_type": "code",
   "execution_count": 61,
   "metadata": {},
   "outputs": [
    {
     "name": "stdout",
     "output_type": "stream",
     "text": [
      "0.4913277511961722% correct guesses\n",
      "0.8877450823783875 Cross Entropy Loss\n",
      "0.3047 % overlap\n"
     ]
    }
   ],
   "source": [
    "total_overlap = []\n",
    "for episode in range(1):\n",
    "    prev_obs = None\n",
    "    obs = env.reset()\n",
    "\n",
    "    op_obs = policy.pre_process(obs, prev_obs, opponent=True)\n",
    "\n",
    "    op_action_pred, op_action_prob, op_action_logit = policy(op_obs)\n",
    "\n",
    "    '''op_action_pred = -1\n",
    "    op_action_prob = 0\n",
    "    op_action_logit = 0'''\n",
    "\n",
    "    correct_hold = []\n",
    "    op_action_hold = []\n",
    "    op_action_prob_hold = []\n",
    "    op_action_logit_hold = torch.Tensor()\n",
    "    \n",
    "    overlap_hold = []\n",
    "\n",
    "\n",
    "\n",
    "    for t in range(10000):\n",
    "        #env.render()\n",
    "\n",
    "        #Preprocess the images for more model and efficient state extraction:\n",
    "        a_obs = policy.pre_process(obs, prev_obs)\n",
    "        op_obs = policy.pre_process(obs, prev_obs, opponent=True)\n",
    "        \n",
    "        ##############################################\n",
    "        ########## Checks for Overlap ################\n",
    "        \n",
    "        #TODO: Fix this jank, but just for testing now:\n",
    "        filtered_obs = policy.state_to_tensor(obs)\n",
    "        overlap_hold.append(is_overlap(filtered_obs))\n",
    "\n",
    "        op_action_real = get_opponent_action(obs, prev_obs)\n",
    "        #op_action_real = get_opponent_action_2(op_obs)\n",
    "\n",
    "        if op_action_real >= 0:\n",
    "            op_action_hold.append(torch.tensor(op_action_real))\n",
    "            op_action_prob_hold.append(op_action_prob)\n",
    "            op_action_logit_hold = torch.cat((op_action_logit_hold,op_action_logit))\n",
    "            correct_hold.append(op_action_real == op_action_pred)\n",
    "\n",
    "\n",
    "        action, action_prob, _ = policy(a_obs)\n",
    "        op_action_pred, op_action_prob, op_action_logit = policy(op_obs)\n",
    "\n",
    "        prev_obs = obs\n",
    "        obs, reward, done, info = env.step(policy.convert_action(action))\n",
    "\n",
    "        if done:\n",
    "            print('Episode %d (%d timesteps) - Reward: %.2f' % (episode, t, reward))\n",
    "            break\n",
    "    actions_stack = torch.stack(op_action_hold)\n",
    "    actions_stack = one_hot_embedding(actions_stack, 2)\n",
    "\n",
    "    op_action_logit_hold, actions_stack = op_action_logit_hold, actions_stack\n",
    "    # Clear the previous gradients\n",
    "    optimizer.zero_grad()\n",
    "\n",
    "    loss = criterion(op_action_logit_hold, actions_stack)\n",
    "    # Compute gradients\n",
    "    loss.backward()\n",
    "    # Adjust weights\n",
    "    optimizer.step()\n",
    "    \n",
    "    mean_overlap = np.mean(overlap_hold)\n",
    "    \n",
    "    \n",
    "    print(\"{}% correct guesses\".format(np.mean(correct_hold)))\n",
    "    print(\"{} Cross Entropy Loss\".format(loss.item()))\n",
    "    print(\"{} % overlap\".format(mean_overlap))\n",
    "    \n",
    "    total_overlap.append(mean_overlap)\n",
    "    \n",
    "env.close()\n"
   ]
  },
  {
   "cell_type": "code",
   "execution_count": 8,
   "metadata": {},
   "outputs": [
    {
     "data": {
      "image/png": "[encoded data removed]",
      "text/plain": [
       "<Figure size 432x288 with 1 Axes>"
      ]
     },
     "metadata": {
      "needs_background": "light"
     },
     "output_type": "display_data"
    }
   ],
   "source": [
    "plt.plot(op_action_hold)\n",
    "plt.show()"
   ]
  },
  {
   "cell_type": "code",
   "execution_count": 18,
   "metadata": {},
   "outputs": [],
   "source": [
    "env.close()"
   ]
  },
  {
   "cell_type": "code",
   "execution_count": null,
   "metadata": {},
   "outputs": [],
   "source": [
    "total_overlap = []\n",
    "for episode in range(10):\n",
    "    \n",
    "    correct_hold = []\n",
    "    op_action_hold = []\n",
    "    op_action_prob_hold = []\n",
    "    op_action_logit_hold = torch.Tensor()\n",
    "    \n",
    "    #Statistics to generate\n",
    "    trial_mean_overlap = []\n",
    "    trial_mean_std = []\n",
    "    trial_delta = []\n",
    "\n",
    "    for trial in range(30):\n",
    "        \n",
    "        prev_obs = None\n",
    "        obs = env.reset()\n",
    "\n",
    "        op_obs = policy.pre_process(obs, prev_obs, opponent=True)\n",
    "\n",
    "        op_action_pred, op_action_prob, op_action_logit = policy(op_obs)\n",
    "\n",
    "\n",
    "        overlap_hold = []\n",
    "        score = 0\n",
    "\n",
    "        for t in range(10000):\n",
    "            env.render()\n",
    "\n",
    "            #Preprocess the images for more model and efficient state extraction:\n",
    "            a_obs = policy.pre_process(obs, prev_obs)\n",
    "            op_obs = policy.pre_process(obs, prev_obs, opponent=True)\n",
    "\n",
    "            ##############################################\n",
    "            ########## Checks for Overlap ################\n",
    "\n",
    "            #TODO: Fix this jank, but just for testing now:\n",
    "            filtered_obs = policy.state_to_tensor(obs)\n",
    "            overlap_hold.append(is_overlap(filtered_obs))\n",
    "\n",
    "            op_action_real = get_opponent_action(obs, prev_obs)\n",
    "\n",
    "            if op_action_real >= 0:\n",
    "                op_action_hold.append(torch.tensor(op_action_real))\n",
    "                op_action_prob_hold.append(op_action_prob)\n",
    "                op_action_logit_hold = torch.cat((op_action_logit_hold,op_action_logit))\n",
    "                correct_hold.append(op_action_real == op_action_pred)\n",
    "\n",
    "\n",
    "            action, action_prob, _ = policy(a_obs)\n",
    "            op_action_pred, op_action_prob, op_action_logit = policy(op_obs)\n",
    "\n",
    "            prev_obs = obs\n",
    "            obs, reward, done, info = env.step(policy.convert_action(action))\n",
    "            score += reward\n",
    "\n",
    "            if done:\n",
    "                print('Episode %d (%d timesteps) - Reward: %.2f' % (episode, t, reward))\n",
    "                break\n",
    "                \n",
    "        actions_stack = torch.stack(op_action_hold)\n",
    "        actions_stack = one_hot_embedding(actions_stack, 2)\n",
    "\n",
    "        op_action_logit_hold, actions_stack = op_action_logit_hold, actions_stack\n",
    "        # Clear the previous gradients\n",
    "        optimizer.zero_grad()\n",
    "\n",
    "        loss = criterion(op_action_logit_hold, actions_stack)\n",
    "        # Compute gradients\n",
    "        loss.backward()\n",
    "        # Adjust weights\n",
    "        optimizer.step()\n",
    "\n",
    "        mean_overlap = np.mean(overlap_hold)\n",
    "\n",
    "\n",
    "        print(\"{}% correct guesses\".format(np.mean(correct_hold)))\n",
    "        print(\"{} Cross Entropy Loss\".format(loss.item()))\n",
    "        print(\"{} % overlap\".format(mean_overlap))\n",
    "\n",
    "        total_overlap.append(mean_overlap)\n",
    "    \n",
    "env.close()\n"
   ]
  },
  {
   "cell_type": "code",
   "execution_count": 30,
   "metadata": {},
   "outputs": [],
   "source": [
    "obs = env.reset()"
   ]
  },
  {
   "cell_type": "code",
   "execution_count": 31,
   "metadata": {},
   "outputs": [],
   "source": [
    "for i in range(100):\n",
    "     prev_obs, reward, done, info = env.step(2)\n",
    "obs, reward, done, info = env.step(3)\n",
    "a_obs = policy.pre_process(obs, prev_obs)\n",
    "op_obs = policy.pre_process(obs, prev_obs, opponent=True)"
   ]
  },
  {
   "cell_type": "code",
   "execution_count": 35,
   "metadata": {},
   "outputs": [
    {
     "data": {
      "text/plain": [
       "<matplotlib.image.AxesImage at 0x1d6e5bcd108>"
      ]
     },
     "execution_count": 35,
     "metadata": {},
     "output_type": "execute_result"
    },
    {
     "data": {
      "image/png": "[encoded data removed]",
      "text/plain": [
       "<Figure size 432x288 with 1 Axes>"
      ]
     },
     "metadata": {
      "needs_background": "light"
     },
     "output_type": "display_data"
    }
   ],
   "source": [
    "plt.imshow(a_obs.view(2,75,80)[1])"
   ]
  },
  {
   "cell_type": "code",
   "execution_count": 36,
   "metadata": {},
   "outputs": [
    {
     "data": {
      "text/plain": [
       "<matplotlib.image.AxesImage at 0x1d6e59ed808>"
      ]
     },
     "execution_count": 36,
     "metadata": {},
     "output_type": "execute_result"
    },
    {
     "data": {
      "image/png": "[encoded data removed]",
      "text/plain": [
       "<Figure size 432x288 with 1 Axes>"
      ]
     },
     "metadata": {
      "needs_background": "light"
     },
     "output_type": "display_data"
    }
   ],
   "source": [
    "plt.imshow(op_obs.view(2,75,80)[1])"
   ]
  },
  {
   "cell_type": "code",
   "execution_count": 51,
   "metadata": {},
   "outputs": [
    {
     "name": "stdout",
     "output_type": "stream",
     "text": [
      "0.3106 % overlap\n"
     ]
    }
   ],
   "source": [
    "total_overlap = []\n",
    "for episode in range(1):\n",
    "    prev_obs = None\n",
    "    obs = env.reset()\n",
    "\n",
    "    op_obs = policy.pre_process(obs, prev_obs, opponent=True)\n",
    "\n",
    "    op_action_pred, op_action_prob, op_action_logit = policy(op_obs)\n",
    "\n",
    "    '''op_action_pred = -1\n",
    "    op_action_prob = 0\n",
    "    op_action_logit = 0'''\n",
    "\n",
    "    correct_hold = []\n",
    "    op_action_hold = []\n",
    "    op_action_prob_hold = []\n",
    "    op_action_logit_hold = torch.Tensor()\n",
    "    \n",
    "    overlap_hold = []\n",
    "\n",
    "\n",
    "\n",
    "    for t in range(10000):\n",
    "        env.render()\n",
    "\n",
    "        #Preprocess the images for more model and efficient state extraction:\n",
    "        a_obs = policy.pre_process(obs, prev_obs)\n",
    "        \n",
    "        ##############################################\n",
    "        ########## Checks for Overlap ################\n",
    "        \n",
    "        #TODO: Fix this jank, but just for testing now:\n",
    "        filtered_obs = policy.state_to_tensor(obs)\n",
    "        overlap_hold.append(is_overlap(filtered_obs))\n",
    "\n",
    "\n",
    "        action, action_prob, _ = policy(a_obs)\n",
    "\n",
    "        prev_obs = obs\n",
    "        obs, reward, done, info = env.step(policy.convert_action(action))\n",
    "\n",
    "        if done:\n",
    "            print('Episode %d (%d timesteps) - Reward: %.2f' % (episode, t, reward))\n",
    "            break\n",
    "\n",
    "    \n",
    "    mean_overlap = np.mean(overlap_hold)\n",
    "    \n",
    "    print(\"{} % overlap\".format(mean_overlap))\n",
    "    \n",
    "    total_overlap.append(mean_overlap)\n",
    "    \n",
    "env.close()\n"
   ]
  },
  {
   "cell_type": "code",
   "execution_count": 66,
   "metadata": {},
   "outputs": [
    {
     "data": {
      "text/plain": [
       "(tensor([0]),\n",
       " tensor([0.8975], grad_fn=<IndexBackward>),\n",
       " tensor([[ 1.1177, -1.0518]], grad_fn=<AddmmBackward>))"
      ]
     },
     "execution_count": 66,
     "metadata": {},
     "output_type": "execute_result"
    }
   ],
   "source": [
    "policy(a_obs)"
   ]
  },
  {
   "cell_type": "code",
   "execution_count": 67,
   "metadata": {},
   "outputs": [
    {
     "data": {
      "text/plain": [
       "tensor([[ 1.1177, -1.0518]], grad_fn=<AddmmBackward>)"
      ]
     },
     "execution_count": 67,
     "metadata": {},
     "output_type": "execute_result"
    }
   ],
   "source": [
    "policy.layers(a_obs)"
   ]
  },
  {
   "cell_type": "code",
   "execution_count": 68,
   "metadata": {},
   "outputs": [
    {
     "data": {
      "text/plain": [
       "torch.Size([1, 12000])"
      ]
     },
     "execution_count": 68,
     "metadata": {},
     "output_type": "execute_result"
    }
   ],
   "source": [
    "a_obs.shape"
   ]
  },
  {
   "cell_type": "code",
   "execution_count": null,
   "metadata": {},
   "outputs": [],
   "source": []
  }
 ],
 "metadata": {
  "kernelspec": {
   "display_name": "Python 3",
   "language": "python",
   "name": "python3"
  },
  "language_info": {
   "codemirror_mode": {
    "name": "ipython",
    "version": 3
   },
   "file_extension": ".py",
   "mimetype": "text/x-python",
   "name": "python",
   "nbconvert_exporter": "python",
   "pygments_lexer": "ipython3",
   "version": "3.7.6"
  }
 },
 "nbformat": 4,
 "nbformat_minor": 4
}
